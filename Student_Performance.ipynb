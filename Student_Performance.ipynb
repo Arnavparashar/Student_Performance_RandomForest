
# 1. SETUP & LIBRARIES

import pandas as pd
import numpy as np
import matplotlib.pyplot as plt
import seaborn as sns

from sklearn.model_selection import train_test_split
from sklearn.preprocessing import LabelEncoder, StandardScaler
from sklearn.ensemble import RandomForestClassifier
from sklearn.metrics import classification_report, confusion_matrix, accuracy_score

# For ignoring warnings
import warnings
warnings.filterwarnings('ignore')


# 2. LOAD DATA

# Upload manually via Colab sidebar, or use this:
from google.colab import files
uploaded = files.upload()

df = pd.read_csv("StudentsPerformance.csv")
df.head()


# 3. BASIC EXPLORATION

print(df.shape)
print(df.info())
print(df.describe())

# Check for missing values
print(df.isnull().sum())


# 4. CREATE TARGET COLUMN (High/Low Performance)

# Let's define "High performance" = average score >= 70
df['average_score'] = df[['math score', 'reading score', 'writing score']].mean(axis=1)
df['performance'] = df['average_score'].apply(lambda x: 1 if x >= 70 else 0)  # 1 = high, 0 = low


# 5. VISUALIZATION (Optional)

sns.countplot(data=df, x='performance')
plt.title("High vs Low Performance")
plt.show()


# 6. ENCODE CATEGORICAL FEATURES

# We'll encode gender, race/ethnicity, parental level of education, lunch, test preparation
label_cols = ['gender', 'race/ethnicity', 'parental level of education', 'lunch', 'test preparation course']
df_encoded = df.copy()

for col in label_cols:
    df_encoded[col] = LabelEncoder().fit_transform(df_encoded[col])


# 7. PREPARE FEATURES AND LABEL

X = df_encoded.drop(columns=['math score', 'reading score', 'writing score', 'average_score', 'performance'])
y = df_encoded['performance']

# Split data
X_train, X_test, y_train, y_test = train_test_split(X, y, test_size=0.2, random_state=42)

# Scale features
scaler = StandardScaler()
X_train_scaled = scaler.fit_transform(X_train)
X_test_scaled = scaler.transform(X_test)

# ================================
# 8. MODEL TRAINING (Random Forest)
# ================================
rf = RandomForestClassifier(n_estimators=100, random_state=42)
rf.fit(X_train_scaled, y_train)
y_pred = rf.predict(X_test_scaled)

# ================================
# 9. EVALUATION
# ================================
print("Accuracy:", accuracy_score(y_test, y_pred))
print("\nClassification Report:\n", classification_report(y_test, y_pred))

sns.heatmap(confusion_matrix(y_test, y_pred), annot=True, fmt='d', cmap='Blues')
plt.title("Confusion Matrix")
plt.xlabel("Predicted")
plt.ylabel("Actual")
plt.show()
